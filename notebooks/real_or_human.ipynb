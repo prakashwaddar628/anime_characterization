{
 "cells": [
  {
   "cell_type": "code",
   "execution_count": 1,
   "id": "436d0296-0adc-411d-a698-4c5c8f936ebc",
   "metadata": {},
   "outputs": [],
   "source": [
    "import pandas as pd"
   ]
  },
  {
   "cell_type": "code",
   "execution_count": null,
   "id": "a8314c04-fbdd-44ad-9cb0-ed57e2ab92cf",
   "metadata": {},
   "outputs": [],
   "source": [
    "human_data = pd.read_csv(\"\")"
   ]
  }
 ],
 "metadata": {
  "kernelspec": {
   "display_name": "Python 3 (ipykernel)",
   "language": "python",
   "name": "python3"
  },
  "language_info": {
   "codemirror_mode": {
    "name": "ipython",
    "version": 3
   },
   "file_extension": ".py",
   "mimetype": "text/x-python",
   "name": "python",
   "nbconvert_exporter": "python",
   "pygments_lexer": "ipython3",
   "version": "3.12.7"
  }
 },
 "nbformat": 4,
 "nbformat_minor": 5
}
